{
 "cells": [
  {
   "cell_type": "code",
   "execution_count": 13,
   "metadata": {},
   "outputs": [],
   "source": [
    "%matplotlib inline\n",
    "\n",
    "import numpy as np\n",
    "import matplotlib.pyplot as plt\n",
    "import cv2\n",
    "import time\n",
    "import scipy.signal as conv\n",
    "\n",
    "plt.rcParams['figure.figsize'] = (10, 10)\n",
    "plt.rcParams['image.cmap'] = 'gray'"
   ]
  },
  {
   "cell_type": "code",
   "execution_count": 14,
   "metadata": {},
   "outputs": [
    {
     "name": "stdout",
     "output_type": "stream",
     "text": [
      "10 241\n"
     ]
    }
   ],
   "source": [
    "im = cv2.imread(\"lena.png\", 0)\n",
    "print(np.amin(im), np.amax(im))"
   ]
  },
  {
   "cell_type": "markdown",
   "metadata": {},
   "source": [
    "## Array indexing from dictionaries"
   ]
  },
  {
   "cell_type": "code",
   "execution_count": 15,
   "metadata": {},
   "outputs": [
    {
     "name": "stdout",
     "output_type": "stream",
     "text": [
      "[5, 2, 3, 43, 77] [5, 2, 3, 4, 11]\n",
      "[133 137 135 128 125]\n"
     ]
    }
   ],
   "source": [
    "from collections import OrderedDict\n",
    "\n",
    "x = OrderedDict()\n",
    "y = OrderedDict()\n",
    "\n",
    "x[0] = [5,2,3,43,77] # col\n",
    "y[0] = [5,2,3,4,11]  # row\n",
    "\n",
    "print(x[0], y[0])\n",
    "print(im[x[0], y[0]])"
   ]
  },
  {
   "cell_type": "markdown",
   "metadata": {},
   "source": [
    "## Return coordinates of array that has a specific value"
   ]
  },
  {
   "cell_type": "code",
   "execution_count": 16,
   "metadata": {},
   "outputs": [
    {
     "name": "stdout",
     "output_type": "stream",
     "text": [
      "(262144,) (262144,)\n",
      "(2,) (2,)\n"
     ]
    }
   ],
   "source": [
    "r1,c1 = np.nonzero(im)\n",
    "r2,c2 = np.where(im == 241)\n",
    "\n",
    "print(np.shape(r1), np.shape(c1))\n",
    "print(np.shape(r2), np.shape(c2))"
   ]
  },
  {
   "cell_type": "markdown",
   "metadata": {},
   "source": [
    "# Sorting of multiple arrays"
   ]
  },
  {
   "cell_type": "code",
   "execution_count": 28,
   "metadata": {},
   "outputs": [
    {
     "name": "stdout",
     "output_type": "stream",
     "text": [
      "[1 2 3 4 6]\n",
      "[ 3  2  5 43 77]\n"
     ]
    }
   ],
   "source": [
    "# Sort in ascending order\n",
    "intensities = np.array([3,2,1,4,6])\n",
    "indices = np.argsort(intensities)\n",
    "\n",
    "# indices to sort\n",
    "print(intensities[indices])\n",
    "\n",
    "# gotta convert list to array before sorting\n",
    "print(np.array(x[0])[indices])"
   ]
  }
 ],
 "metadata": {
  "kernelspec": {
   "display_name": "Python [conda env:CV]",
   "language": "python",
   "name": "conda-env-CV-py"
  },
  "language_info": {
   "codemirror_mode": {
    "name": "ipython",
    "version": 3
   },
   "file_extension": ".py",
   "mimetype": "text/x-python",
   "name": "python",
   "nbconvert_exporter": "python",
   "pygments_lexer": "ipython3",
   "version": "3.5.4"
  }
 },
 "nbformat": 4,
 "nbformat_minor": 2
}
