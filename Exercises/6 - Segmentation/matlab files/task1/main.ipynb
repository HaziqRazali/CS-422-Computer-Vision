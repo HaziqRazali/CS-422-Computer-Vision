{
 "cells": [
  {
   "cell_type": "code",
   "execution_count": 1,
   "metadata": {
    "collapsed": true
   },
   "outputs": [],
   "source": [
    "# standard cv libraries\n",
    "import numpy as np\n",
    "import cv2\n",
    "import matplotlib.pyplot as plt\n",
    "\n",
    "# convolution operation\n",
    "import scipy.signal as conv"
   ]
  },
  {
   "cell_type": "code",
   "execution_count": 2,
   "metadata": {
    "collapsed": true
   },
   "outputs": [],
   "source": [
    "im = cv2.imread(\"sonnet.png\",0)"
   ]
  },
  {
   "cell_type": "markdown",
   "metadata": {},
   "source": [
    "# Otsu's Algorithm"
   ]
  },
  {
   "cell_type": "code",
   "execution_count": 3,
   "metadata": {},
   "outputs": [
    {
     "name": "stdout",
     "output_type": "stream",
     "text": [
      "130.50980392156862\n"
     ]
    },
    {
     "data": {
      "text/plain": [
       "<matplotlib.image.AxesImage at 0x1ef11e97dd8>"
      ]
     },
     "execution_count": 3,
     "metadata": {},
     "output_type": "execute_result"
    },
    {
     "data": {
      "image/png": "[encoded data removed]",
      "text/plain": [
       "<matplotlib.figure.Figure at 0x1ef11bd2668>"
      ]
     },
     "metadata": {},
     "output_type": "display_data"
    }
   ],
   "source": [
    "# build histogram\n",
    "no_bins = 256\n",
    "bins = np.arange(0,no_bins+1)\n",
    "hist, bin_edges = np.histogram(im, bins=bins, density=True)\n",
    "\n",
    "# w1\n",
    "w1 = np.zeros(shape=no_bins)\n",
    "for i in range(no_bins):\n",
    "    w1[i] = np.sum(hist[0:i+1])\n",
    "        \n",
    "# mu1\n",
    "mu1 = np.zeros(shape=no_bins)\n",
    "for i in range(no_bins):\n",
    "    if(w1[i] == 0):\n",
    "        continue\n",
    "    mu1[i] = np.sum(np.multiply(np.arange(1,i+2),hist[0:i+1]))/w1[i]\n",
    "\n",
    "# w2 and mu2\n",
    "w2 = np.zeros(shape=no_bins)\n",
    "mu2 = np.zeros(shape=no_bins)\n",
    "c = np.sum(np.multiply(np.arange(1,257), hist))\n",
    "for i in range(no_bins):\n",
    "    w2[i] = 1 - w1[i]\n",
    "    if(w2[i] == 0):\n",
    "        continue\n",
    "    mu2[i] = (c - np.sum(np.multiply(np.arange(1,i+2),hist[0:i+1])))/w2[i]\n",
    "    \n",
    "# between class variance\n",
    "var_b = w1*w2*(mu1-mu2)**2\n",
    "\n",
    "# argmax t\n",
    "t = np.argmax(var_b)\n",
    "t = (t-1)/(no_bins-1)*256\n",
    "\n",
    "im_thresholded = np.copy(im)\n",
    "im_thresholded[im < t] = 0\n",
    "im_thresholded[im > t] = 1\n",
    "\n",
    "plt.imshow(im_thresholded, cmap=\"gray\")"
   ]
  },
  {
   "cell_type": "markdown",
   "metadata": {},
   "source": [
    "# Adaptive Thresholding"
   ]
  },
  {
   "cell_type": "code",
   "execution_count": 4,
   "metadata": {},
   "outputs": [
    {
     "data": {
      "text/plain": [
       "<matplotlib.image.AxesImage at 0x1ef11f00be0>"
      ]
     },
     "execution_count": 4,
     "metadata": {},
     "output_type": "execute_result"
    },
    {
     "data": {
      "image/png": "[encoded data removed]",
      "text/plain": [
       "<matplotlib.figure.Figure at 0x1ef11bc8278>"
      ]
     },
     "metadata": {},
     "output_type": "display_data"
    }
   ],
   "source": [
    "sz = 5\n",
    "mean_filter = np.ones((sz,sz),np.float32)/(sz*sz)\n",
    "\n",
    "# convolution with mean filter\n",
    "im_convolved = conv.convolve2d(im, mean_filter, mode='same')\n",
    "\n",
    "# im - im_convolved\n",
    "im_subtracted = im - im_convolved\n",
    "\n",
    "# threshold\n",
    "threshold = 0.03 * 255\n",
    "im_subtracted = im_subtracted - threshold\n",
    "im_subtracted[im_subtracted > 0] = 1\n",
    "im_subtracted[im_subtracted < 0] = 0\n",
    "\n",
    "plt.imshow(im_subtracted, cmap=\"gray\")"
   ]
  },
  {
   "cell_type": "markdown",
   "metadata": {},
   "source": [
    "# Superpixels"
   ]
  },
  {
   "cell_type": "code",
   "execution_count": null,
   "metadata": {
    "collapsed": true
   },
   "outputs": [],
   "source": [
    "# initialize mask of pixel labels\n",
    "mask = np.zeros(shape=np.shape(im))\n",
    "\n",
    "superpixel_count = 1\n",
    "\n",
    "# for every pixel\n",
    "for x in range(np.shape(im)[0]):\n",
    "    for y in range(np.shape(im)[1]):\n",
    "        \n",
    "        # has not been assigned to a superpixel\n",
    "        if(mask == 0):\n",
    "            mask[x,y] = superpixel_count\n",
    "        \n",
    "        # locate superpixels\n",
    "        for i in range(np.shape(im)[0]):\n",
    "            for j in range(np.shape(im)[0]):\n",
    "                \n",
    "                # conditions are satisfied\n",
    "                if((mask == 0) and (np.abs(im[x,y] - im[i,j]) < diff) and (((x-i)**2 + (y-j)**2) < distance)):\n",
    "                    mask[i,j] = superpixel_count\n",
    "                    \n",
    "        superpixel_count += 1\n"
   ]
  }
 ],
 "metadata": {
  "kernelspec": {
   "display_name": "Python [conda env:CV]",
   "language": "python",
   "name": "conda-env-CV-py"
  },
  "language_info": {
   "codemirror_mode": {
    "name": "ipython",
    "version": 3
   },
   "file_extension": ".py",
   "mimetype": "text/x-python",
   "name": "python",
   "nbconvert_exporter": "python",
   "pygments_lexer": "ipython3",
   "version": "3.5.4"
  }
 },
 "nbformat": 4,
 "nbformat_minor": 2
}
