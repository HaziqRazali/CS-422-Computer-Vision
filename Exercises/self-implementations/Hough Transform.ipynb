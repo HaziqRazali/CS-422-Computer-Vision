{
 "cells": [
  {
   "cell_type": "code",
   "execution_count": 1,
   "metadata": {
    "collapsed": true
   },
   "outputs": [],
   "source": [
    "import cv2\n",
    "import numpy as np\n",
    "import matplotlib.pyplot as plt"
   ]
  },
  {
   "cell_type": "markdown",
   "metadata": {},
   "source": [
    "Read image and convert to grayscale"
   ]
  },
  {
   "cell_type": "code",
   "execution_count": 2,
   "metadata": {
    "collapsed": true
   },
   "outputs": [],
   "source": [
    "im = cv2.imread(\"shape.png\")\n",
    "im = cv2.cvtColor(im, cv2.COLOR_BGR2GRAY)"
   ]
  },
  {
   "cell_type": "markdown",
   "metadata": {},
   "source": [
    "Detect edges via canny"
   ]
  },
  {
   "cell_type": "code",
   "execution_count": 3,
   "metadata": {},
   "outputs": [
    {
     "data": {
      "text/plain": [
       "<matplotlib.image.AxesImage at 0x21f898224a8>"
      ]
     },
     "execution_count": 3,
     "metadata": {},
     "output_type": "execute_result"
    },
    {
     "data": {
      "image/png": "[encoded data removed]",
      "text/plain": [
       "<matplotlib.figure.Figure at 0x21f8873def0>"
      ]
     },
     "metadata": {},
     "output_type": "display_data"
    }
   ],
   "source": [
    "edges = cv2.Canny(im,100,200)\n",
    "plt.figure()\n",
    "plt.imshow(edges, cmap=\"gray\")"
   ]
  },
  {
   "cell_type": "markdown",
   "metadata": {},
   "source": [
    "Define the function to detect lines via hough transform"
   ]
  },
  {
   "cell_type": "code",
   "execution_count": 4,
   "metadata": {
    "collapsed": true
   },
   "outputs": [],
   "source": [
    "def hough_lines(edges):\n",
    "    \n",
    "    height = edges.shape[0]\n",
    "    width = edges.shape[1]\n",
    "    \n",
    "    # r = x cos (theta) + y sin (theta)\n",
    "    # initialize thetas\n",
    "    thetas = np.deg2rad(np.arange(0, 180.0))\n",
    "    cos_t = np.cos(thetas)\n",
    "    sin_t = np.sin(thetas)  \n",
    "    num_thetas = len(thetas)    \n",
    "    # initialze r\n",
    "    max_dist = int(np.ceil(np.sqrt(width * width + height * height)))\n",
    "    rhos = np.linspace(-max_dist, max_dist, 2 * max_dist)\n",
    "        \n",
    "    # initialize accumulator array\n",
    "    accumulator = np.zeros(shape=[2 * max_dist, num_thetas])\n",
    "    \n",
    "    # iterate through edge map\n",
    "    for y in range(height):\n",
    "        for x in range(width):\n",
    "            \n",
    "            # if an edge is found\n",
    "            if(edges[y,x] == 255):\n",
    "                for theta_id in range(num_thetas):\n",
    "                    # Calculate rho. max_dist is added for a positive index\n",
    "                    rho = int(round(x * cos_t[theta_id] + y * sin_t[theta_id]) + max_dist)\n",
    "                    accumulator[rho, theta_id] += 1\n",
    "    \n",
    "    return accumulator, thetas, rhos"
   ]
  },
  {
   "cell_type": "markdown",
   "metadata": {},
   "source": [
    "Show accumulator array. Note that theta = thetas[theta_id] and r = r + diag - diag"
   ]
  },
  {
   "cell_type": "code",
   "execution_count": 5,
   "metadata": {
    "scrolled": false
   },
   "outputs": [
    {
     "data": {
      "text/plain": [
       "<matplotlib.colorbar.Colorbar at 0x21f89ad71d0>"
      ]
     },
     "execution_count": 5,
     "metadata": {},
     "output_type": "execute_result"
    },
    {
     "data": {
      "image/png": "[encoded data removed]",
      "text/plain": [
       "<matplotlib.figure.Figure at 0x21f89847b70>"
      ]
     },
     "metadata": {},
     "output_type": "display_data"
    }
   ],
   "source": [
    "accumulator, thetas, rhos = hough_lines(edges)\n",
    "fig = plt.figure(figsize=(5,5))\n",
    "plt.imshow(accumulator, cmap=\"gray\", aspect=0.2)\n",
    "plt.ylabel(\"r + diag\")\n",
    "plt.xlabel(\"theta_id\")\n",
    "plt.colorbar()"
   ]
  },
  {
   "cell_type": "markdown",
   "metadata": {},
   "source": [
    "Get top K elements and draw their result"
   ]
  },
  {
   "cell_type": "code",
   "execution_count": 6,
   "metadata": {},
   "outputs": [
    {
     "data": {
      "text/plain": [
       "<matplotlib.image.AxesImage at 0x21f89b30e10>"
      ]
     },
     "execution_count": 6,
     "metadata": {},
     "output_type": "execute_result"
    },
    {
     "data": {
      "image/png": "[encoded data removed]",
      "text/plain": [
       "<matplotlib.figure.Figure at 0x21f89b0e4e0>"
      ]
     },
     "metadata": {},
     "output_type": "display_data"
    }
   ],
   "source": [
    "# [0][0] -> rho component, 0'th element\n",
    "# [1][0] -> theta component, 0'th element\n",
    "k = 4\n",
    "top_k = np.argsort(accumulator.flatten())[::-1][:k]\n",
    "top_k = np.unravel_index(top_k, (np.shape(accumulator)[0], np.shape(accumulator)[1]))\n",
    "\n",
    "template = np.zeros(shape=np.shape(im))\n",
    "for i in range(k):\n",
    "    \n",
    "    rho = top_k[0][i] - int(np.ceil(np.sqrt(edges.shape[1] * edges.shape[1] + edges.shape[0] * edges.shape[0])))\n",
    "    theta = thetas[top_k[1][i]]\n",
    "    \n",
    "    # vertical line, so just set x0,x1 = rho and y = [0, height]\n",
    "    if(abs(theta) < 0.01):\n",
    "        x0 = rho\n",
    "        x1 = rho\n",
    "        y0 = 0\n",
    "        y1 = edges.shape[0]\n",
    "\n",
    "    # horizontal line, so just set y0,y1 = rho and x = [0, width]\n",
    "    elif(abs(theta - 1.57) < 0.01):\n",
    "        x0 = 0\n",
    "        x1 = edges.shape[1]\n",
    "        y0 = rho\n",
    "        y1 = rho\n",
    "\n",
    "    else:\n",
    "        x0 = 0\n",
    "        x1 = edges.shape[1]\n",
    "        y0 = int((rho - x0*np.cos(theta)) / np.sin(theta))\n",
    "        y1 = int((rho - x1*np.cos(theta)) / np.sin(theta))\n",
    "\n",
    "    cv2.line(template,(x0,y0),(x1,y1),(255,0,0),1)\n",
    "    \n",
    "plt.figure()\n",
    "plt.imshow(template, cmap=\"gray\")"
   ]
  }
 ],
 "metadata": {
  "kernelspec": {
   "display_name": "Python [conda env:CV]",
   "language": "python",
   "name": "conda-env-CV-py"
  },
  "language_info": {
   "codemirror_mode": {
    "name": "ipython",
    "version": 3
   },
   "file_extension": ".py",
   "mimetype": "text/x-python",
   "name": "python",
   "nbconvert_exporter": "python",
   "pygments_lexer": "ipython3",
   "version": "3.5.4"
  }
 },
 "nbformat": 4,
 "nbformat_minor": 2
}
